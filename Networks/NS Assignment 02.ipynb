{
 "cells": [
  {
   "cell_type": "markdown",
   "metadata": {},
   "source": [
    "# Задание 02\n",
    "\n",
    "## Тарасюк Юлия"
   ]
  },
  {
   "cell_type": "markdown",
   "metadata": {},
   "source": [
    "![](got.png)"
   ]
  },
  {
   "cell_type": "code",
   "execution_count": 1,
   "metadata": {},
   "outputs": [],
   "source": [
    "import numpy as np\n",
    "import matplotlib.pyplot as plt\n",
    "%matplotlib inline\n",
    "import networkx as nx\n",
    "import pandas as pd"
   ]
  },
  {
   "cell_type": "markdown",
   "metadata": {},
   "source": [
    "Будем изучать важность персонажей в книгах \"A Song of Ice and Fire\" (G.R.R. Martin). Два героя связаны ребром, если их имена появляются в тексте на расстоянии не более 15 слов в соответствующей книге. [Данные](https://github.com/mathbeveridge/asoiaf) находятся в открытом доступе для 5 книг.\n",
    "Сеть -- взвешенная, вес ребра определяется числом взаимодействий (упоминаний в тексте)."
   ]
  },
  {
   "cell_type": "code",
   "execution_count": 2,
   "metadata": {},
   "outputs": [],
   "source": [
    "book1 = pd.read_csv('asoiaf-book1-edges.csv')\n",
    "book2 = pd.read_csv('asoiaf-book2-edges.csv')\n",
    "book3 = pd.read_csv('asoiaf-book3-edges.csv')\n",
    "book4 = pd.read_csv('asoiaf-book4-edges.csv')\n",
    "book5 = pd.read_csv('asoiaf-book5-edges.csv')"
   ]
  },
  {
   "cell_type": "code",
   "execution_count": 3,
   "metadata": {},
   "outputs": [
    {
     "data": {
      "text/html": [
       "<div>\n",
       "<style scoped>\n",
       "    .dataframe tbody tr th:only-of-type {\n",
       "        vertical-align: middle;\n",
       "    }\n",
       "\n",
       "    .dataframe tbody tr th {\n",
       "        vertical-align: top;\n",
       "    }\n",
       "\n",
       "    .dataframe thead th {\n",
       "        text-align: right;\n",
       "    }\n",
       "</style>\n",
       "<table border=\"1\" class=\"dataframe\">\n",
       "  <thead>\n",
       "    <tr style=\"text-align: right;\">\n",
       "      <th></th>\n",
       "      <th>Source</th>\n",
       "      <th>Target</th>\n",
       "      <th>Type</th>\n",
       "      <th>weight</th>\n",
       "      <th>book</th>\n",
       "    </tr>\n",
       "  </thead>\n",
       "  <tbody>\n",
       "    <tr>\n",
       "      <th>0</th>\n",
       "      <td>Addam-Marbrand</td>\n",
       "      <td>Jaime-Lannister</td>\n",
       "      <td>Undirected</td>\n",
       "      <td>3</td>\n",
       "      <td>1</td>\n",
       "    </tr>\n",
       "    <tr>\n",
       "      <th>1</th>\n",
       "      <td>Addam-Marbrand</td>\n",
       "      <td>Tywin-Lannister</td>\n",
       "      <td>Undirected</td>\n",
       "      <td>6</td>\n",
       "      <td>1</td>\n",
       "    </tr>\n",
       "    <tr>\n",
       "      <th>2</th>\n",
       "      <td>Aegon-I-Targaryen</td>\n",
       "      <td>Daenerys-Targaryen</td>\n",
       "      <td>Undirected</td>\n",
       "      <td>5</td>\n",
       "      <td>1</td>\n",
       "    </tr>\n",
       "    <tr>\n",
       "      <th>3</th>\n",
       "      <td>Aegon-I-Targaryen</td>\n",
       "      <td>Eddard-Stark</td>\n",
       "      <td>Undirected</td>\n",
       "      <td>4</td>\n",
       "      <td>1</td>\n",
       "    </tr>\n",
       "    <tr>\n",
       "      <th>4</th>\n",
       "      <td>Aemon-Targaryen-(Maester-Aemon)</td>\n",
       "      <td>Alliser-Thorne</td>\n",
       "      <td>Undirected</td>\n",
       "      <td>4</td>\n",
       "      <td>1</td>\n",
       "    </tr>\n",
       "  </tbody>\n",
       "</table>\n",
       "</div>"
      ],
      "text/plain": [
       "                            Source              Target        Type  weight  \\\n",
       "0                   Addam-Marbrand     Jaime-Lannister  Undirected       3   \n",
       "1                   Addam-Marbrand     Tywin-Lannister  Undirected       6   \n",
       "2                Aegon-I-Targaryen  Daenerys-Targaryen  Undirected       5   \n",
       "3                Aegon-I-Targaryen        Eddard-Stark  Undirected       4   \n",
       "4  Aemon-Targaryen-(Maester-Aemon)      Alliser-Thorne  Undirected       4   \n",
       "\n",
       "   book  \n",
       "0     1  \n",
       "1     1  \n",
       "2     1  \n",
       "3     1  \n",
       "4     1  "
      ]
     },
     "execution_count": 3,
     "metadata": {},
     "output_type": "execute_result"
    }
   ],
   "source": [
    "book1.head()"
   ]
  },
  {
   "cell_type": "markdown",
   "metadata": {},
   "source": [
    "#### Постройте сеть персонажей по первой книге. "
   ]
  },
  {
   "cell_type": "code",
   "execution_count": 4,
   "metadata": {},
   "outputs": [],
   "source": [
    "G1=nx.from_pandas_edgelist(book1,'Source', 'Target', edge_attr=True, create_using=nx.Graph())"
   ]
  },
  {
   "cell_type": "code",
   "execution_count": 5,
   "metadata": {},
   "outputs": [
    {
     "name": "stdout",
     "output_type": "stream",
     "text": [
      "('Jaime-Lannister', 'Loras-Tyrell', {'Type': 'Undirected', 'weight': 3, 'book': 1})\n"
     ]
    }
   ],
   "source": [
    "print(list(G1.edges(data=True))[16]) # ребро в сети"
   ]
  },
  {
   "cell_type": "markdown",
   "metadata": {},
   "source": [
    "![](got.png)\n",
    "![](got.png)\n",
    "![](got.png)"
   ]
  },
  {
   "cell_type": "markdown",
   "metadata": {},
   "source": [
    "#### 1.  Определите топ-10 персонажей по значению центральности по степени. Сколько среди них Старков? "
   ]
  },
  {
   "cell_type": "code",
   "execution_count": 6,
   "metadata": {},
   "outputs": [],
   "source": [
    "from operator import itemgetter\n",
    "\n",
    "def sorted_centrality(G):\n",
    "    d_cent=nx.degree_centrality(G)\n",
    "    return sorted(d_cent.items(), key=itemgetter(1, 0), reverse=True)"
   ]
  },
  {
   "cell_type": "code",
   "execution_count": 7,
   "metadata": {},
   "outputs": [
    {
     "data": {
      "text/plain": [
       "[('Eddard-Stark', 0.3548387096774194),\n",
       " ('Robert-Baratheon', 0.2688172043010753),\n",
       " ('Tyrion-Lannister', 0.24731182795698928),\n",
       " ('Catelyn-Stark', 0.23118279569892475),\n",
       " ('Jon-Snow', 0.19892473118279572),\n",
       " ('Sansa-Stark', 0.18817204301075272),\n",
       " ('Robb-Stark', 0.18817204301075272),\n",
       " ('Bran-Stark', 0.17204301075268819),\n",
       " ('Joffrey-Baratheon', 0.16129032258064518),\n",
       " ('Cersei-Lannister', 0.16129032258064518)]"
      ]
     },
     "execution_count": 7,
     "metadata": {},
     "output_type": "execute_result"
    }
   ],
   "source": [
    "item_sort = sorted_centrality(G1)\n",
    "item_sort[:10]"
   ]
  },
  {
   "cell_type": "code",
   "execution_count": 77,
   "metadata": {},
   "outputs": [
    {
     "data": {
      "text/plain": [
       "5"
      ]
     },
     "execution_count": 77,
     "metadata": {},
     "output_type": "execute_result"
    }
   ],
   "source": [
    "sum(1 for (key, value) in item_sort[:10] if 'Stark' in key)"
   ]
  },
  {
   "cell_type": "markdown",
   "metadata": {},
   "source": [
    "#### Ответ: 5 Старков"
   ]
  },
  {
   "cell_type": "markdown",
   "metadata": {},
   "source": [
    "![](got.png)\n",
    "![](got.png)\n",
    "![](got.png)\n",
    "![](got.png)"
   ]
  },
  {
   "cell_type": "markdown",
   "metadata": {},
   "source": [
    "#### 2. Постройте функцию weighted_degree, учитывающую вес ребер: \n",
    "\n",
    "$$d_{w}^{i}=\\sum_{j} w_{i,j},$$ где $w_{i,j}$ -- вес ребра $(i,j)$ ($w_{i,j}=0$, если нет ребра между вершинами $i$ и $j$).\n",
    "\n",
    "#### Какое значение взвешенной степени у Eddard-Stark в сети?"
   ]
  },
  {
   "cell_type": "code",
   "execution_count": 8,
   "metadata": {},
   "outputs": [],
   "source": [
    "def weighted_degree(name):\n",
    "    return book1[(book1['Source'] == name) | (book1['Target'] == name)]['weight'].sum() "
   ]
  },
  {
   "cell_type": "code",
   "execution_count": 9,
   "metadata": {},
   "outputs": [
    {
     "data": {
      "text/plain": [
       "1284"
      ]
     },
     "execution_count": 9,
     "metadata": {},
     "output_type": "execute_result"
    }
   ],
   "source": [
    "weighted_degree('Eddard-Stark')"
   ]
  },
  {
   "cell_type": "markdown",
   "metadata": {},
   "source": [
    "#### Ответ: Значение у Eddard-Stark = 1284\n",
    "\n",
    "Другой метод получить словарь, учитывающий вес рёбер"
   ]
  },
  {
   "cell_type": "code",
   "execution_count": 10,
   "metadata": {},
   "outputs": [],
   "source": [
    "weight_degr = dict(G1.degree(weight='weight'))"
   ]
  },
  {
   "attachments": {},
   "cell_type": "markdown",
   "metadata": {},
   "source": [
    "![](got.png)\n",
    "![](got.png)\n",
    "![](got.png)\n",
    "![](got.png)"
   ]
  },
  {
   "cell_type": "markdown",
   "metadata": {},
   "source": [
    "#### 3. Сколько персонажей из топ-10, определенным по центральности по степени (из вопроса 1) осталось в топ-10 по взвешенной степени ? "
   ]
  },
  {
   "cell_type": "code",
   "execution_count": 11,
   "metadata": {},
   "outputs": [
    {
     "data": {
      "text/plain": [
       "[('Eddard-Stark', 1284),\n",
       " ('Robert-Baratheon', 941),\n",
       " ('Jon-Snow', 784),\n",
       " ('Tyrion-Lannister', 650),\n",
       " ('Sansa-Stark', 545),\n",
       " ('Bran-Stark', 531),\n",
       " ('Catelyn-Stark', 520),\n",
       " ('Robb-Stark', 516),\n",
       " ('Daenerys-Targaryen', 443),\n",
       " ('Arya-Stark', 430)]"
      ]
     },
     "execution_count": 11,
     "metadata": {},
     "output_type": "execute_result"
    }
   ],
   "source": [
    "top_weight_degr = sorted(weight_degr.items(), key=itemgetter(1, 0), reverse=True)\n",
    "top_weight_degr[:10]"
   ]
  },
  {
   "cell_type": "code",
   "execution_count": 78,
   "metadata": {},
   "outputs": [
    {
     "name": "stdout",
     "output_type": "stream",
     "text": [
      "Осталось 8 персонажей\n",
      "['Bran-Stark' 'Catelyn-Stark' 'Eddard-Stark' 'Jon-Snow' 'Robb-Stark'\n",
      " 'Robert-Baratheon' 'Sansa-Stark' 'Tyrion-Lannister']\n"
     ]
    }
   ],
   "source": [
    "inter = np.intersect1d(item_sort[:10], top_weight_degr[:10])\n",
    "print(f'Осталось {inter.shape[0]} персонажей')\n",
    "print(inter)"
   ]
  },
  {
   "cell_type": "markdown",
   "metadata": {},
   "source": [
    "#### Ответ: Осталось 8 персонажей "
   ]
  },
  {
   "cell_type": "markdown",
   "metadata": {},
   "source": [
    "![](got.png)\n",
    "![](got.png)\n",
    "![](got.png)"
   ]
  },
  {
   "cell_type": "markdown",
   "metadata": {},
   "source": [
    "#### 4. Постройте топ-10 персонажей  по значению центральности по посредничеству. \n",
    "Сравните с топ-10 по степени и по взвешенной степени. \n",
    "#### Какой новый персонаж появился в рейтинге?"
   ]
  },
  {
   "cell_type": "code",
   "execution_count": 82,
   "metadata": {},
   "outputs": [
    {
     "data": {
      "text/plain": [
       "[('Eddard-Stark', 0.2696038913836117),\n",
       " ('Robert-Baratheon', 0.21403028397371796),\n",
       " ('Tyrion-Lannister', 0.1902124972697492),\n",
       " ('Jon-Snow', 0.17158135899829566),\n",
       " ('Catelyn-Stark', 0.1513952715347627),\n",
       " ('Daenerys-Targaryen', 0.08627015537511595),\n",
       " ('Robb-Stark', 0.07298399629664767),\n",
       " ('Drogo', 0.06481224290874964),\n",
       " ('Bran-Stark', 0.05579958811784442),\n",
       " ('Sansa-Stark', 0.03714483664326785)]"
      ]
     },
     "execution_count": 82,
     "metadata": {},
     "output_type": "execute_result"
    }
   ],
   "source": [
    "def sorted_bcent(G):\n",
    "    b_cent=nx.betweenness_centrality(G)\n",
    "    return sorted(b_cent.items(), key=itemgetter(1, 0), reverse=True)\n",
    "\n",
    "bcent_sort = sorted_bcent(G1)\n",
    "bcent_sort[:10]"
   ]
  },
  {
   "cell_type": "code",
   "execution_count": 83,
   "metadata": {},
   "outputs": [
    {
     "name": "stdout",
     "output_type": "stream",
     "text": [
      "Новый персонаж Drogo\n"
     ]
    }
   ],
   "source": [
    "first_ex = list(dict(item_sort[:10]).keys())\n",
    "second_ex = list(dict(top_weight_degr[:10]).keys())\n",
    "third_ex = list(dict(bcent_sort[:10]).keys())\n",
    "print(f'Новый персонаж {np.setdiff1d(np.setdiff1d(third_ex, second_ex), first_ex)[0]}')"
   ]
  },
  {
   "cell_type": "markdown",
   "metadata": {},
   "source": [
    "#### Ответ: Новый персонаж Drogo"
   ]
  },
  {
   "cell_type": "markdown",
   "metadata": {},
   "source": [
    "![](got.png)\n",
    "![](got.png)\n",
    "![](got.png)"
   ]
  },
  {
   "cell_type": "markdown",
   "metadata": {},
   "source": [
    "#### 5. Постройте топ-10 персонажей по значению центральности по посредничеству с учетом веса ребер. Кто теперь возглавляет список? "
   ]
  },
  {
   "cell_type": "code",
   "execution_count": 17,
   "metadata": {},
   "outputs": [
    {
     "data": {
      "text/plain": [
       "[('Robert-Baratheon', 0.23341885664466297),\n",
       " ('Eddard-Stark', 0.18703429235687297),\n",
       " ('Tyrion-Lannister', 0.15311225972516293),\n",
       " ('Robb-Stark', 0.1024018949825402),\n",
       " ('Catelyn-Stark', 0.10169012330302643),\n",
       " ('Jon-Snow', 0.09027684366394043),\n",
       " ('Jaime-Lannister', 0.07745109164464009),\n",
       " ('Rodrik-Cassel', 0.07667992877670296),\n",
       " ('Drogo', 0.06894355184677767),\n",
       " ('Jorah-Mormont', 0.0627085149665795)]"
      ]
     },
     "execution_count": 17,
     "metadata": {},
     "output_type": "execute_result"
    }
   ],
   "source": [
    "b_cent_weight = nx.betweenness_centrality(G1, weight=\"weight\")\n",
    "sorted(b_cent_weight.items(), key=itemgetter(1), reverse=True)[:10]"
   ]
  },
  {
   "cell_type": "code",
   "execution_count": 85,
   "metadata": {},
   "outputs": [
    {
     "data": {
      "text/plain": [
       "'Robert-Baratheon'"
      ]
     },
     "execution_count": 85,
     "metadata": {},
     "output_type": "execute_result"
    }
   ],
   "source": [
    "sorted(b_cent_weight.items(), key=itemgetter(1), reverse=True)[:10][0][0]"
   ]
  },
  {
   "cell_type": "markdown",
   "metadata": {},
   "source": [
    "#### Ответ: Robert-Baratheon"
   ]
  },
  {
   "cell_type": "markdown",
   "metadata": {},
   "source": [
    "![](got.png)\n",
    "![](got.png)\n",
    "![](got.png)"
   ]
  },
  {
   "cell_type": "markdown",
   "metadata": {},
   "source": [
    "####  6. Постройте топ-10 по значению PageRank (по умолчанию учетываются веса ребер). Какое место в топе  занимает Daenerys-Targaryen?"
   ]
  },
  {
   "cell_type": "code",
   "execution_count": 20,
   "metadata": {},
   "outputs": [
    {
     "data": {
      "text/plain": [
       "[('Eddard-Stark', 0.2696038913836117),\n",
       " ('Robert-Baratheon', 0.21403028397371796),\n",
       " ('Tyrion-Lannister', 0.1902124972697492),\n",
       " ('Jon-Snow', 0.17158135899829566),\n",
       " ('Catelyn-Stark', 0.1513952715347627),\n",
       " ('Daenerys-Targaryen', 0.08627015537511595),\n",
       " ('Robb-Stark', 0.07298399629664767),\n",
       " ('Drogo', 0.06481224290874964),\n",
       " ('Bran-Stark', 0.05579958811784442),\n",
       " ('Sansa-Stark', 0.03714483664326785)]"
      ]
     },
     "execution_count": 20,
     "metadata": {},
     "output_type": "execute_result"
    }
   ],
   "source": [
    "pr=nx.pagerank(G1, alpha=0.85)\n",
    "def sorted_pr(G):\n",
    "    pr=nx.betweenness_centrality(G)\n",
    "    return sorted(pr.items(), key=itemgetter(1, 0), reverse=True)\n",
    "\n",
    "rank_sort = sorted_pr(G1)\n",
    "rank_sort[:10]"
   ]
  },
  {
   "cell_type": "code",
   "execution_count": 21,
   "metadata": {},
   "outputs": [
    {
     "name": "stdout",
     "output_type": "stream",
     "text": [
      "6\n"
     ]
    }
   ],
   "source": [
    "result = np.where(np.array(list(dict(rank_sort).keys())) == 'Daenerys-Targaryen')\n",
    "print(*result[0]+1)"
   ]
  },
  {
   "cell_type": "markdown",
   "metadata": {},
   "source": [
    "#### Ответ: 6"
   ]
  },
  {
   "cell_type": "markdown",
   "metadata": {},
   "source": [
    "![](got.png)\n",
    "![](got.png)\n",
    "![](got.png)"
   ]
  },
  {
   "cell_type": "markdown",
   "metadata": {},
   "source": [
    "#### 7. Постройте рейтинг по значению центральности по степени для персонажей 5-ой книги. Какую теперь наивысшую строчку рейтинга занимает персонаж из Дома Старков?  "
   ]
  },
  {
   "cell_type": "code",
   "execution_count": 54,
   "metadata": {},
   "outputs": [
    {
     "data": {
      "text/plain": [
       "[('Jon-Snow', 0.1962025316455696),\n",
       " ('Daenerys-Targaryen', 0.18354430379746836),\n",
       " ('Stannis-Baratheon', 0.14873417721518986),\n",
       " ('Tyrion-Lannister', 0.10443037974683544),\n",
       " ('Theon-Greyjoy', 0.10443037974683544),\n",
       " ('Cersei-Lannister', 0.08860759493670886),\n",
       " ('Barristan-Selmy', 0.07911392405063292),\n",
       " ('Hizdahr-zo-Loraq', 0.06962025316455696),\n",
       " ('Asha-Greyjoy', 0.056962025316455694),\n",
       " ('Melisandre', 0.05379746835443038),\n",
       " ('Ramsay-Snow', 0.05063291139240506),\n",
       " ('Quentyn-Martell', 0.05063291139240506),\n",
       " ('Mance-Rayder', 0.05063291139240506),\n",
       " ('Jon-Connington', 0.05063291139240506),\n",
       " ('Selyse-Florent', 0.04746835443037974),\n",
       " ('Robert-Baratheon', 0.04746835443037974),\n",
       " ('Doran-Martell', 0.04746835443037974),\n",
       " ('Daario-Naharis', 0.04746835443037974),\n",
       " ('Aegon-Targaryen-(son-of-Rhaegar)', 0.04746835443037974),\n",
       " ('Wyman-Manderly', 0.04430379746835443),\n",
       " ('Eddard-Stark', 0.04430379746835443),\n",
       " ('Davos-Seaworth', 0.04113924050632911),\n",
       " ('Skahaz-mo-Kandaq', 0.0379746835443038),\n",
       " ('Bran-Stark', 0.0379746835443038),\n",
       " ('Arya-Stark', 0.0379746835443038),\n",
       " ('Haldon', 0.03481012658227848),\n",
       " ('Robb-Stark', 0.03164556962025317),\n",
       " ('Kevan-Lannister', 0.03164556962025317),\n",
       " ('Jaime-Lannister', 0.03164556962025317),\n",
       " ('Victarion-Greyjoy', 0.028481012658227847),\n",
       " ('Tywin-Lannister', 0.028481012658227847),\n",
       " ('Rhaegar-Targaryen', 0.028481012658227847),\n",
       " ('Myrcella-Baratheon', 0.028481012658227847),\n",
       " ('Irri', 0.028481012658227847),\n",
       " ('Gerris-Drinkwater', 0.028481012658227847),\n",
       " ('Bowen-Marsh', 0.028481012658227847),\n",
       " ('Val', 0.02531645569620253),\n",
       " ('Tormund', 0.02531645569620253),\n",
       " ('Tattered-Prince', 0.02531645569620253),\n",
       " ('Roose-Bolton', 0.02531645569620253),\n",
       " ('Rolly-Duckfield', 0.02531645569620253),\n",
       " ('Missandei', 0.02531645569620253),\n",
       " ('Jeyne-Poole', 0.02531645569620253),\n",
       " ('Hareth-(Moles-Town)', 0.02531645569620253),\n",
       " ('Gregor-Clegane', 0.02531645569620253),\n",
       " ('Eddison-Tollett', 0.02531645569620253),\n",
       " ('Ben-Plumm', 0.02531645569620253),\n",
       " ('Yandry', 0.022151898734177215),\n",
       " ('Tommen-Baratheon', 0.022151898734177215),\n",
       " ('Satin', 0.022151898734177215),\n",
       " ('Penny', 0.022151898734177215),\n",
       " ('Lemore', 0.022151898734177215),\n",
       " ('Jhogo', 0.022151898734177215),\n",
       " ('Jhiqui', 0.022151898734177215),\n",
       " ('Grey-Worm', 0.022151898734177215),\n",
       " ('Godry-Farring', 0.022151898734177215),\n",
       " ('Gilly', 0.022151898734177215),\n",
       " ('Ysilla', 0.0189873417721519),\n",
       " ('Varys', 0.0189873417721519),\n",
       " ('Spotted-Cat', 0.0189873417721519),\n",
       " ('Sour-Alyn', 0.0189873417721519),\n",
       " ('Shireen-Baratheon', 0.0189873417721519),\n",
       " ('Rakharo', 0.0189873417721519),\n",
       " ('Narbert-Grandison', 0.0189873417721519),\n",
       " ('Meryn-Trant', 0.0189873417721519),\n",
       " ('Meris', 0.0189873417721519),\n",
       " ('Meera-Reed', 0.0189873417721519),\n",
       " ('Mace-Tyrell', 0.0189873417721519),\n",
       " ('Hagen', 0.0189873417721519),\n",
       " ('Groleo', 0.0189873417721519),\n",
       " ('Galazza-Galare', 0.0189873417721519),\n",
       " ('Barbrey-Dustin', 0.0189873417721519),\n",
       " ('Balon-Swann', 0.0189873417721519),\n",
       " ('Arianne-Martell', 0.0189873417721519),\n",
       " ('Areo-Hotah', 0.0189873417721519),\n",
       " ('Aggo', 0.0189873417721519),\n",
       " ('Yezzan-zo-Qaggaz', 0.015822784810126583),\n",
       " ('Viserys-Targaryen', 0.015822784810126583),\n",
       " ('Skinner', 0.015822784810126583),\n",
       " ('Rowan', 0.015822784810126583),\n",
       " ('Reznak-mo-Reznak', 0.015822784810126583),\n",
       " ('Rafford', 0.015822784810126583),\n",
       " ('Qezza', 0.015822784810126583),\n",
       " ('Obara-Sand', 0.015822784810126583),\n",
       " ('Mully', 0.015822784810126583),\n",
       " ('Moqorro', 0.015822784810126583),\n",
       " ('Leathers', 0.015822784810126583),\n",
       " ('Khrazz', 0.015822784810126583),\n",
       " ('Justin-Massey', 0.015822784810126583),\n",
       " ('Ilyn-Payne', 0.015822784810126583),\n",
       " ('Illyrio-Mopatis', 0.015822784810126583),\n",
       " ('Hobb', 0.015822784810126583),\n",
       " ('Emmett', 0.015822784810126583),\n",
       " ('Dunsen', 0.015822784810126583),\n",
       " ('Damon-Dance-for-Me', 0.015822784810126583),\n",
       " ('Dalla', 0.015822784810126583),\n",
       " ('Clydas', 0.015822784810126583),\n",
       " ('Cletus-Yronwood', 0.015822784810126583),\n",
       " ('Caggo', 0.015822784810126583),\n",
       " ('Belwas', 0.015822784810126583),\n",
       " ('Axell-Florent', 0.015822784810126583),\n",
       " ('Arnolf-Karstark', 0.015822784810126583),\n",
       " ('Aemon-Targaryen-(Maester-Aemon)', 0.015822784810126583),\n",
       " ('Wun-Weg-Wun-Dar-Wun', 0.012658227848101266),\n",
       " ('Varamyr', 0.012658227848101266),\n",
       " ('Unella', 0.012658227848101266),\n",
       " ('Squirrel', 0.012658227848101266),\n",
       " ('Sigorn', 0.012658227848101266),\n",
       " ('Samwell-Tarly', 0.012658227848101266),\n",
       " ('Robert-Strong', 0.012658227848101266),\n",
       " ('Patrek-of-Kings-Mountain', 0.012658227848101266),\n",
       " ('Othell-Yarwyck', 0.012658227848101266),\n",
       " ('Nurse', 0.012658227848101266),\n",
       " ('Malegorn', 0.012658227848101266),\n",
       " ('Lorren', 0.012658227848101266),\n",
       " ('Jorah-Mormont', 0.012658227848101266),\n",
       " ('Hother-Umber', 0.012658227848101266),\n",
       " ('Holly', 0.012658227848101266),\n",
       " ('Hodor', 0.012658227848101266),\n",
       " ('Hero', 0.012658227848101266),\n",
       " ('Grimtongue', 0.012658227848101266),\n",
       " ('Goghor-the-Giant', 0.012658227848101266),\n",
       " ('Euron-Greyjoy', 0.012658227848101266),\n",
       " ('Cellador', 0.012658227848101266),\n",
       " ('Bloodbeard', 0.012658227848101266),\n",
       " ('Benerro', 0.012658227848101266),\n",
       " ('Belaquo', 0.012658227848101266),\n",
       " ('Archibald-Yronwood', 0.012658227848101266),\n",
       " ('Yellow-Dick', 0.00949367088607595),\n",
       " ('Weeper', 0.00949367088607595),\n",
       " ('Walder-Frey-(son-of-Merrett)', 0.00949367088607595),\n",
       " ('Tycho-Nestoris', 0.00949367088607595),\n",
       " ('Tybero-Istarion', 0.00949367088607595),\n",
       " ('Tristifer-Botley', 0.00949367088607595),\n",
       " ('Toregg', 0.00949367088607595),\n",
       " ('Sybell-Spicer', 0.00949367088607595),\n",
       " ('Sweets', 0.00949367088607595),\n",
       " ('Steelskin', 0.00949367088607595),\n",
       " ('Scolera', 0.00949367088607595),\n",
       " ('Sansa-Stark', 0.00949367088607595),\n",
       " ('Rickon-Stark', 0.00949367088607595),\n",
       " ('Randyll-Tarly', 0.00949367088607595),\n",
       " ('Qhorin-Halfhand', 0.00949367088607595),\n",
       " ('Qavo-Nogarys', 0.00949367088607595),\n",
       " ('Qarl-the-Maid', 0.00949367088607595),\n",
       " ('Pypar', 0.00949367088607595),\n",
       " ('Pycelle', 0.00949367088607595),\n",
       " ('Nymeria-Sand', 0.00949367088607595),\n",
       " ('Mors-Umber', 0.00949367088607595),\n",
       " ('Moelle', 0.00949367088607595),\n",
       " ('Miklaz', 0.00949367088607595),\n",
       " ('Kasporio', 0.00949367088607595),\n",
       " ('Jojen-Reed', 0.00949367088607595),\n",
       " ('Joffrey-Baratheon', 0.00949367088607595),\n",
       " ('Janos-Slynt', 0.00949367088607595),\n",
       " ('Jack-Bulwer', 0.00949367088607595),\n",
       " ('Hop-Robin', 0.00949367088607595),\n",
       " ('High-Sparrow', 0.00949367088607595),\n",
       " ('Harry-Strickland', 0.00949367088607595),\n",
       " ('Hairy-Hal', 0.00949367088607595),\n",
       " ('Grunt', 0.00949367088607595),\n",
       " ('Grazhar', 0.00949367088607595),\n",
       " ('Gerold-Dayne', 0.00949367088607595),\n",
       " ('Garth-Greyfeather', 0.00949367088607595),\n",
       " ('Franklyn-Flowers', 0.00949367088607595),\n",
       " ('Emrick', 0.00949367088607595),\n",
       " ('Ellaria-Sand', 0.00949367088607595),\n",
       " ('Elia-Martell', 0.00949367088607595),\n",
       " ('Devan-Seaworth', 0.00949367088607595),\n",
       " ('Cotter-Pyke', 0.00949367088607595),\n",
       " ('Coldhands', 0.00949367088607595),\n",
       " ('Clayton-Suggs', 0.00949367088607595),\n",
       " ('Brus-Buckler', 0.00949367088607595),\n",
       " ('Arron', 0.00949367088607595),\n",
       " ('Alysane-Mormont', 0.00949367088607595),\n",
       " ('Alys-Karstark', 0.00949367088607595),\n",
       " ('Aerys-II-Targaryen', 0.00949367088607595),\n",
       " ('Aenys-Frey', 0.00949367088607595),\n",
       " ('Ygritte', 0.006329113924050633),\n",
       " ('Xaro-Xhoan-Daxos', 0.006329113924050633),\n",
       " ('Willam-Dustin', 0.006329113924050633),\n",
       " ('Wick-Whittlestick', 0.006329113924050633),\n",
       " ('Walder-Frey-(son-of-Jammos)', 0.006329113924050633),\n",
       " ('Walda-Frey-(daughter-of-Merrett)', 0.006329113924050633),\n",
       " ('Waif', 0.006329113924050633),\n",
       " ('Tysha', 0.006329113924050633),\n",
       " ('Tyene-Sand', 0.006329113924050633),\n",
       " ('Todder', 0.006329113924050633),\n",
       " ('Theomore', 0.006329113924050633),\n",
       " ('Symon-Stripeback', 0.006329113924050633),\n",
       " ('Sybelle-Glover', 0.006329113924050633),\n",
       " ('Scar', 0.006329113924050633),\n",
       " ('Salladhor-Saan', 0.006329113924050633),\n",
       " ('Rory', 0.006329113924050633),\n",
       " ('Roger-Ryswell', 0.006329113924050633),\n",
       " ('Rodrik-Sparr', 0.006329113924050633),\n",
       " ('Rodrik-Cassel', 0.006329113924050633),\n",
       " ('Robett-Glover', 0.006329113924050633),\n",
       " ('Richard-Horpe', 0.006329113924050633),\n",
       " ('Rhaegar-Frey', 0.006329113924050633),\n",
       " ('Rattleshirt', 0.006329113924050633),\n",
       " ('Qyburn', 0.006329113924050633),\n",
       " ('Patchface', 0.006329113924050633),\n",
       " ('Owen', 0.006329113924050633),\n",
       " ('Oberyn-Martell', 0.006329113924050633),\n",
       " ('Nyessos-Vhassar', 0.006329113924050633),\n",
       " ('Myles-Toyne', 0.006329113924050633),\n",
       " ('Mezzara', 0.006329113924050633),\n",
       " ('Marselen', 0.006329113924050633),\n",
       " ('Marlon-Manderly', 0.006329113924050633),\n",
       " ('Leona-Woolfield', 0.006329113924050633),\n",
       " ('Leaf', 0.006329113924050633),\n",
       " ('Kindly-Man', 0.006329113924050633),\n",
       " ('Kedry', 0.006329113924050633),\n",
       " ('Joramun', 0.006329113924050633),\n",
       " ('Jeor-Mormont', 0.006329113924050633),\n",
       " ('Hosteen-Frey', 0.006329113924050633),\n",
       " ('Grenn', 0.006329113924050633),\n",
       " ('Gerrick-Kingsblood', 0.006329113924050633),\n",
       " ('Garth-(Wolfs-Den)', 0.006329113924050633),\n",
       " ('Fulk', 0.006329113924050633),\n",
       " ('Frenya', 0.006329113924050633),\n",
       " ('Drogo', 0.006329113924050633),\n",
       " ('Donal-Noye', 0.006329113924050633),\n",
       " ('Dick-Straw', 0.006329113924050633),\n",
       " ('Denys-Mallister', 0.006329113924050633),\n",
       " ('Cromm', 0.006329113924050633),\n",
       " ('Cleon', 0.006329113924050633),\n",
       " ('Caleotte', 0.006329113924050633),\n",
       " ('Brynden-Rivers', 0.006329113924050633),\n",
       " ('Brusco', 0.006329113924050633),\n",
       " ('Brienne-of-Tarth', 0.006329113924050633),\n",
       " ('Brandon-Norrey', 0.006329113924050633),\n",
       " ('Boros-Blount', 0.006329113924050633),\n",
       " ('Benethon-Scales', 0.006329113924050633),\n",
       " ('Ben-Bones', 0.006329113924050633),\n",
       " ('Balon-Greyjoy', 0.006329113924050633),\n",
       " ('Arys-Oakheart', 0.006329113924050633),\n",
       " ('Aeron-Greyjoy', 0.006329113924050633),\n",
       " ('Yurkhaz-zo-Yunzak', 0.0031645569620253164),\n",
       " ('Wylis-Manderly', 0.0031645569620253164),\n",
       " ('Wulfe', 0.0031645569620253164),\n",
       " ('Willow-Witch-eye', 0.0031645569620253164),\n",
       " ('William-Foxglove', 0.0031645569620253164),\n",
       " ('Widower', 0.0031645569620253164),\n",
       " ('Wex-Pyke', 0.0031645569620253164),\n",
       " ('Ulmer', 0.0031645569620253164),\n",
       " ('Tytos-Blackwood', 0.0031645569620253164),\n",
       " ('Trystane-Martell', 0.0031645569620253164),\n",
       " ('Torgon-Greyiron', 0.0031645569620253164),\n",
       " ('Torghen-Flint', 0.0031645569620253164),\n",
       " ('Tom-Barleycorn', 0.0031645569620253164),\n",
       " ('Thistle', 0.0031645569620253164),\n",
       " ('Soren-Shieldbreaker', 0.0031645569620253164),\n",
       " ('Shrouded-Lord', 0.0031645569620253164),\n",
       " ('Shae', 0.0031645569620253164),\n",
       " ('Roose-Ryswell', 0.0031645569620253164),\n",
       " ('Ronnet-Connington', 0.0031645569620253164),\n",
       " ('Rolfe-the-Dwarf', 0.0031645569620253164),\n",
       " ('Rickard-Karstark', 0.0031645569620253164),\n",
       " ('Rhaenys-Targaryen-(daughter-of-Rhaegar)', 0.0031645569620253164),\n",
       " ('Raymun-Redbeard', 0.0031645569620253164),\n",
       " ('Ralf-(Limper)', 0.0031645569620253164),\n",
       " ('Quaithe', 0.0031645569620253164),\n",
       " ('Pono', 0.0031645569620253164),\n",
       " ('Petyr-Baelish', 0.0031645569620253164),\n",
       " ('Osney-Kettleblack', 0.0031645569620253164),\n",
       " ('Old-Bill-Bone', 0.0031645569620253164),\n",
       " ('Morgo', 0.0031645569620253164),\n",
       " ('Marya-Seaworth', 0.0031645569620253164),\n",
       " ('Marghaz-zo-Loraq', 0.0031645569620253164),\n",
       " ('Margaery-Tyrell', 0.0031645569620253164),\n",
       " ('Malaquo-Maegyr', 0.0031645569620253164),\n",
       " ('Maege-Mormont', 0.0031645569620253164),\n",
       " ('Lysono-Maar', 0.0031645569620253164),\n",
       " ('Lyanna-Stark', 0.0031645569620253164),\n",
       " ('Lyanna-Mormont', 0.0031645569620253164),\n",
       " ('Luton', 0.0031645569620253164),\n",
       " ('Lucifer-Long', 0.0031645569620253164),\n",
       " ('Longwater-Pyke', 0.0031645569620253164),\n",
       " ('Larraq', 0.0031645569620253164),\n",
       " ('Lancel-Lannister', 0.0031645569620253164),\n",
       " ('Kerwin', 0.0031645569620253164),\n",
       " ('Josmyn-Peckledon', 0.0031645569620253164),\n",
       " ('Jonos-Bracken', 0.0031645569620253164),\n",
       " ('Jon-Umber-(Greatjon)', 0.0031645569620253164),\n",
       " ('Jared-Frey', 0.0031645569620253164),\n",
       " ('Hugh-Hungerford', 0.0031645569620253164),\n",
       " ('Hoster-Blackwood', 0.0031645569620253164),\n",
       " ('Harys-Swyft', 0.0031645569620253164),\n",
       " ('Harwood-Stout', 0.0031645569620253164),\n",
       " ('Harl', 0.0031645569620253164),\n",
       " ('Haggon', 0.0031645569620253164),\n",
       " ('Godric-Borrell', 0.0031645569620253164),\n",
       " ('Ghael', 0.0031645569620253164),\n",
       " ('Galbart-Glover', 0.0031645569620253164),\n",
       " ('Ezzara', 0.0031645569620253164),\n",
       " ('Eroeh', 0.0031645569620253164),\n",
       " ('Dryn', 0.0031645569620253164),\n",
       " ('Draqaz', 0.0031645569620253164),\n",
       " ('Denzo-Dhan', 0.0031645569620253164),\n",
       " ('Daeron-II-Targaryen', 0.0031645569620253164),\n",
       " ('Corliss-Penny', 0.0031645569620253164),\n",
       " ('Catelyn-Stark', 0.0031645569620253164),\n",
       " ('Camarron', 0.0031645569620253164),\n",
       " ('Bump', 0.0031645569620253164),\n",
       " ('Brynden-Tully', 0.0031645569620253164),\n",
       " ('Brea', 0.0031645569620253164),\n",
       " ('Black-Balaq', 0.0031645569620253164),\n",
       " ('Benjen-Stark', 0.0031645569620253164),\n",
       " ('Bartimus', 0.0031645569620253164),\n",
       " ('Barsena', 0.0031645569620253164),\n",
       " ('Azor-Ahai', 0.0031645569620253164),\n",
       " ('Ashara-Dayne', 0.0031645569620253164),\n",
       " ('Arthor-Karstark', 0.0031645569620253164),\n",
       " ('Alliser-Thorne', 0.0031645569620253164),\n",
       " ('Aegon-I-Targaryen', 0.0031645569620253164)]"
      ]
     },
     "execution_count": 54,
     "metadata": {},
     "output_type": "execute_result"
    }
   ],
   "source": [
    "G5=nx.from_pandas_edgelist(book5,'Source', 'Target', edge_attr=True, create_using=nx.Graph())\n",
    "d_sort = sorted_centrality(G5)\n",
    "d_sort"
   ]
  },
  {
   "cell_type": "code",
   "execution_count": 23,
   "metadata": {},
   "outputs": [
    {
     "name": "stdout",
     "output_type": "stream",
     "text": [
      "21\n"
     ]
    }
   ],
   "source": [
    "result = np.where(np.array(list(dict(d_sort).keys())) == 'Eddard-Stark')\n",
    "print(*result[0]+1)"
   ]
  },
  {
   "cell_type": "markdown",
   "metadata": {},
   "source": [
    "#### Ответ: 21"
   ]
  },
  {
   "cell_type": "markdown",
   "metadata": {},
   "source": [
    "![](got.png)\n",
    "![](got.png)\n",
    "![](got.png)"
   ]
  },
  {
   "cell_type": "markdown",
   "metadata": {},
   "source": [
    "#### 8.  Выберите персонажа и постройте график, показывающий как менялась его влиятельность от номера книги. "
   ]
  },
  {
   "cell_type": "markdown",
   "metadata": {},
   "source": [
    "# Jon-Snow"
   ]
  },
  {
   "cell_type": "code",
   "execution_count": 52,
   "metadata": {},
   "outputs": [],
   "source": [
    "G2=nx.from_pandas_edgelist(book2,'Source', 'Target', edge_attr=True, create_using=nx.Graph())\n",
    "G3=nx.from_pandas_edgelist(book3,'Source', 'Target', edge_attr=True, create_using=nx.Graph())\n",
    "G4=nx.from_pandas_edgelist(book4,'Source', 'Target', edge_attr=True, create_using=nx.Graph())"
   ]
  },
  {
   "cell_type": "code",
   "execution_count": 55,
   "metadata": {},
   "outputs": [
    {
     "name": "stdout",
     "output_type": "stream",
     "text": [
      "[5, 11, 2, 30, 1]\n"
     ]
    }
   ],
   "source": [
    "G = [G1, G2, G3, G4, G5]\n",
    "a = []\n",
    "for i in G:\n",
    "    g_sort = sorted_centrality(i)\n",
    "    a.append(np.where(np.array(list(dict(g_sort).keys())) == 'Jon-Snow')[0][0]+1)\n",
    "print(a)"
   ]
  },
  {
   "cell_type": "code",
   "execution_count": 70,
   "metadata": {},
   "outputs": [
    {
     "data": {
      "image/png": "[encoded data removed]",
      "text/plain": [
       "<Figure size 1152x720 with 1 Axes>"
      ]
     },
     "metadata": {
      "needs_background": "light"
     },
     "output_type": "display_data"
    }
   ],
   "source": [
    "x = [1, 2, 3, 4, 5]\n",
    "plt.figure(figsize=(16, 10))\n",
    "plt.title('Персонаж Jon-Snow \\n Центральность по степени', fontsize=20)\n",
    "plt.bar(x, a, width=0.8, color = 'g')\n",
    "plt.xlabel('Номер книги',fontsize=20)\n",
    "plt.xticks(fontsize=20)\n",
    "plt.yticks(fontsize=20)\n",
    "plt.ylabel('№ в рейтинге',fontsize=20)\n",
    "plt.show()"
   ]
  },
  {
   "cell_type": "markdown",
   "metadata": {},
   "source": [
    "## График наоборот"
   ]
  },
  {
   "cell_type": "code",
   "execution_count": 71,
   "metadata": {},
   "outputs": [
    {
     "data": {
      "image/png": "[encoded data removed]",
      "text/plain": [
       "<Figure size 1152x720 with 1 Axes>"
      ]
     },
     "metadata": {
      "needs_background": "light"
     },
     "output_type": "display_data"
    }
   ],
   "source": [
    "plt.figure(figsize=(16, 10))\n",
    "plt.title('Персонаж Jon-Snow \\n Центральность по степени', fontsize=20)\n",
    "plt.plot(x, a, color = 'g', markersize=20, lw=5, marker=\"o\")\n",
    "plt.gca().invert_yaxis()\n",
    "plt.xlabel('Номер книги',fontsize=20)\n",
    "plt.xticks([1, 2, 3, 4, 5], fontsize=20)\n",
    "plt.yticks(fontsize=20)\n",
    "plt.ylabel('№ в рейтинге',fontsize=20)\n",
    "plt.grid()\n",
    "plt.show()"
   ]
  },
  {
   "cell_type": "markdown",
   "metadata": {},
   "source": [
    "![](got.png)\n",
    "![](got.png)\n",
    "![](got.png)"
   ]
  },
  {
   "cell_type": "markdown",
   "metadata": {},
   "source": [
    "#### 9. Кто из персонажей самый влиятельный? \n",
    "Постройте сеть, объединяющую сети по всем книгам. Постройте таблицу наиболее влиятельных персонажей в зависимости от выбранной метрики.\n"
   ]
  },
  {
   "cell_type": "markdown",
   "metadata": {},
   "source": [
    "Начинаем джойнить таблицы"
   ]
  },
  {
   "cell_type": "code",
   "execution_count": 19,
   "metadata": {},
   "outputs": [
    {
     "data": {
      "text/html": [
       "<div>\n",
       "<style scoped>\n",
       "    .dataframe tbody tr th:only-of-type {\n",
       "        vertical-align: middle;\n",
       "    }\n",
       "\n",
       "    .dataframe tbody tr th {\n",
       "        vertical-align: top;\n",
       "    }\n",
       "\n",
       "    .dataframe thead th {\n",
       "        text-align: right;\n",
       "    }\n",
       "</style>\n",
       "<table border=\"1\" class=\"dataframe\">\n",
       "  <thead>\n",
       "    <tr style=\"text-align: right;\">\n",
       "      <th></th>\n",
       "      <th>Source</th>\n",
       "      <th>Target</th>\n",
       "      <th>weight_x</th>\n",
       "      <th>weight_y</th>\n",
       "    </tr>\n",
       "  </thead>\n",
       "  <tbody>\n",
       "    <tr>\n",
       "      <th>0</th>\n",
       "      <td>Addam-Marbrand</td>\n",
       "      <td>Jaime-Lannister</td>\n",
       "      <td>3.0</td>\n",
       "      <td>NaN</td>\n",
       "    </tr>\n",
       "    <tr>\n",
       "      <th>1</th>\n",
       "      <td>Addam-Marbrand</td>\n",
       "      <td>Tywin-Lannister</td>\n",
       "      <td>6.0</td>\n",
       "      <td>NaN</td>\n",
       "    </tr>\n",
       "    <tr>\n",
       "      <th>2</th>\n",
       "      <td>Aegon-I-Targaryen</td>\n",
       "      <td>Daenerys-Targaryen</td>\n",
       "      <td>5.0</td>\n",
       "      <td>NaN</td>\n",
       "    </tr>\n",
       "    <tr>\n",
       "      <th>3</th>\n",
       "      <td>Aegon-I-Targaryen</td>\n",
       "      <td>Eddard-Stark</td>\n",
       "      <td>4.0</td>\n",
       "      <td>NaN</td>\n",
       "    </tr>\n",
       "    <tr>\n",
       "      <th>4</th>\n",
       "      <td>Aemon-Targaryen-(Maester-Aemon)</td>\n",
       "      <td>Alliser-Thorne</td>\n",
       "      <td>4.0</td>\n",
       "      <td>NaN</td>\n",
       "    </tr>\n",
       "  </tbody>\n",
       "</table>\n",
       "</div>"
      ],
      "text/plain": [
       "                            Source              Target  weight_x  weight_y\n",
       "0                   Addam-Marbrand     Jaime-Lannister       3.0       NaN\n",
       "1                   Addam-Marbrand     Tywin-Lannister       6.0       NaN\n",
       "2                Aegon-I-Targaryen  Daenerys-Targaryen       5.0       NaN\n",
       "3                Aegon-I-Targaryen        Eddard-Stark       4.0       NaN\n",
       "4  Aemon-Targaryen-(Maester-Aemon)      Alliser-Thorne       4.0       NaN"
      ]
     },
     "execution_count": 19,
     "metadata": {},
     "output_type": "execute_result"
    }
   ],
   "source": [
    "b1b2 = book1[['Source', 'Target', 'weight']].merge(book2[['Source', 'Target', 'weight']], how='outer', on=['Source','Target'])\n",
    "b1b2.head()"
   ]
  },
  {
   "cell_type": "code",
   "execution_count": 20,
   "metadata": {},
   "outputs": [
    {
     "data": {
      "text/html": [
       "<div>\n",
       "<style scoped>\n",
       "    .dataframe tbody tr th:only-of-type {\n",
       "        vertical-align: middle;\n",
       "    }\n",
       "\n",
       "    .dataframe tbody tr th {\n",
       "        vertical-align: top;\n",
       "    }\n",
       "\n",
       "    .dataframe thead th {\n",
       "        text-align: right;\n",
       "    }\n",
       "</style>\n",
       "<table border=\"1\" class=\"dataframe\">\n",
       "  <thead>\n",
       "    <tr style=\"text-align: right;\">\n",
       "      <th></th>\n",
       "      <th>Source</th>\n",
       "      <th>Target</th>\n",
       "      <th>weight_x</th>\n",
       "      <th>weight_y</th>\n",
       "      <th>weight</th>\n",
       "    </tr>\n",
       "  </thead>\n",
       "  <tbody>\n",
       "    <tr>\n",
       "      <th>0</th>\n",
       "      <td>Addam-Marbrand</td>\n",
       "      <td>Jaime-Lannister</td>\n",
       "      <td>3.0</td>\n",
       "      <td>NaN</td>\n",
       "      <td>3.0</td>\n",
       "    </tr>\n",
       "    <tr>\n",
       "      <th>1</th>\n",
       "      <td>Addam-Marbrand</td>\n",
       "      <td>Tywin-Lannister</td>\n",
       "      <td>6.0</td>\n",
       "      <td>NaN</td>\n",
       "      <td>NaN</td>\n",
       "    </tr>\n",
       "    <tr>\n",
       "      <th>2</th>\n",
       "      <td>Aegon-I-Targaryen</td>\n",
       "      <td>Daenerys-Targaryen</td>\n",
       "      <td>5.0</td>\n",
       "      <td>NaN</td>\n",
       "      <td>4.0</td>\n",
       "    </tr>\n",
       "    <tr>\n",
       "      <th>3</th>\n",
       "      <td>Aegon-I-Targaryen</td>\n",
       "      <td>Eddard-Stark</td>\n",
       "      <td>4.0</td>\n",
       "      <td>NaN</td>\n",
       "      <td>NaN</td>\n",
       "    </tr>\n",
       "    <tr>\n",
       "      <th>4</th>\n",
       "      <td>Aemon-Targaryen-(Maester-Aemon)</td>\n",
       "      <td>Alliser-Thorne</td>\n",
       "      <td>4.0</td>\n",
       "      <td>NaN</td>\n",
       "      <td>3.0</td>\n",
       "    </tr>\n",
       "  </tbody>\n",
       "</table>\n",
       "</div>"
      ],
      "text/plain": [
       "                            Source              Target  weight_x  weight_y  \\\n",
       "0                   Addam-Marbrand     Jaime-Lannister       3.0       NaN   \n",
       "1                   Addam-Marbrand     Tywin-Lannister       6.0       NaN   \n",
       "2                Aegon-I-Targaryen  Daenerys-Targaryen       5.0       NaN   \n",
       "3                Aegon-I-Targaryen        Eddard-Stark       4.0       NaN   \n",
       "4  Aemon-Targaryen-(Maester-Aemon)      Alliser-Thorne       4.0       NaN   \n",
       "\n",
       "   weight  \n",
       "0     3.0  \n",
       "1     NaN  \n",
       "2     4.0  \n",
       "3     NaN  \n",
       "4     3.0  "
      ]
     },
     "execution_count": 20,
     "metadata": {},
     "output_type": "execute_result"
    }
   ],
   "source": [
    "b2b3 = b1b2.merge(book3[['Source', 'Target', 'weight']], how='outer', on=['Source','Target'])\n",
    "b2b3.head()"
   ]
  },
  {
   "cell_type": "code",
   "execution_count": 21,
   "metadata": {},
   "outputs": [
    {
     "data": {
      "text/html": [
       "<div>\n",
       "<style scoped>\n",
       "    .dataframe tbody tr th:only-of-type {\n",
       "        vertical-align: middle;\n",
       "    }\n",
       "\n",
       "    .dataframe tbody tr th {\n",
       "        vertical-align: top;\n",
       "    }\n",
       "\n",
       "    .dataframe thead th {\n",
       "        text-align: right;\n",
       "    }\n",
       "</style>\n",
       "<table border=\"1\" class=\"dataframe\">\n",
       "  <thead>\n",
       "    <tr style=\"text-align: right;\">\n",
       "      <th></th>\n",
       "      <th>Source</th>\n",
       "      <th>Target</th>\n",
       "      <th>weight_x</th>\n",
       "      <th>weight_y</th>\n",
       "      <th>weight_x</th>\n",
       "      <th>weight_y</th>\n",
       "    </tr>\n",
       "  </thead>\n",
       "  <tbody>\n",
       "    <tr>\n",
       "      <th>0</th>\n",
       "      <td>Addam-Marbrand</td>\n",
       "      <td>Jaime-Lannister</td>\n",
       "      <td>3.0</td>\n",
       "      <td>NaN</td>\n",
       "      <td>3.0</td>\n",
       "      <td>8.0</td>\n",
       "    </tr>\n",
       "    <tr>\n",
       "      <th>1</th>\n",
       "      <td>Addam-Marbrand</td>\n",
       "      <td>Tywin-Lannister</td>\n",
       "      <td>6.0</td>\n",
       "      <td>NaN</td>\n",
       "      <td>NaN</td>\n",
       "      <td>NaN</td>\n",
       "    </tr>\n",
       "    <tr>\n",
       "      <th>2</th>\n",
       "      <td>Aegon-I-Targaryen</td>\n",
       "      <td>Daenerys-Targaryen</td>\n",
       "      <td>5.0</td>\n",
       "      <td>NaN</td>\n",
       "      <td>4.0</td>\n",
       "      <td>NaN</td>\n",
       "    </tr>\n",
       "    <tr>\n",
       "      <th>3</th>\n",
       "      <td>Aegon-I-Targaryen</td>\n",
       "      <td>Eddard-Stark</td>\n",
       "      <td>4.0</td>\n",
       "      <td>NaN</td>\n",
       "      <td>NaN</td>\n",
       "      <td>NaN</td>\n",
       "    </tr>\n",
       "    <tr>\n",
       "      <th>4</th>\n",
       "      <td>Aemon-Targaryen-(Maester-Aemon)</td>\n",
       "      <td>Alliser-Thorne</td>\n",
       "      <td>4.0</td>\n",
       "      <td>NaN</td>\n",
       "      <td>3.0</td>\n",
       "      <td>NaN</td>\n",
       "    </tr>\n",
       "  </tbody>\n",
       "</table>\n",
       "</div>"
      ],
      "text/plain": [
       "                            Source              Target  weight_x  weight_y  \\\n",
       "0                   Addam-Marbrand     Jaime-Lannister       3.0       NaN   \n",
       "1                   Addam-Marbrand     Tywin-Lannister       6.0       NaN   \n",
       "2                Aegon-I-Targaryen  Daenerys-Targaryen       5.0       NaN   \n",
       "3                Aegon-I-Targaryen        Eddard-Stark       4.0       NaN   \n",
       "4  Aemon-Targaryen-(Maester-Aemon)      Alliser-Thorne       4.0       NaN   \n",
       "\n",
       "   weight_x  weight_y  \n",
       "0       3.0       8.0  \n",
       "1       NaN       NaN  \n",
       "2       4.0       NaN  \n",
       "3       NaN       NaN  \n",
       "4       3.0       NaN  "
      ]
     },
     "execution_count": 21,
     "metadata": {},
     "output_type": "execute_result"
    }
   ],
   "source": [
    "b3b4 = b2b3.merge(book4[['Source', 'Target', 'weight']], how='outer', on=['Source','Target'])\n",
    "b3b4.head()"
   ]
  },
  {
   "cell_type": "code",
   "execution_count": 22,
   "metadata": {},
   "outputs": [
    {
     "data": {
      "text/html": [
       "<div>\n",
       "<style scoped>\n",
       "    .dataframe tbody tr th:only-of-type {\n",
       "        vertical-align: middle;\n",
       "    }\n",
       "\n",
       "    .dataframe tbody tr th {\n",
       "        vertical-align: top;\n",
       "    }\n",
       "\n",
       "    .dataframe thead th {\n",
       "        text-align: right;\n",
       "    }\n",
       "</style>\n",
       "<table border=\"1\" class=\"dataframe\">\n",
       "  <thead>\n",
       "    <tr style=\"text-align: right;\">\n",
       "      <th></th>\n",
       "      <th>Source</th>\n",
       "      <th>Target</th>\n",
       "      <th>weight_x</th>\n",
       "      <th>weight_y</th>\n",
       "      <th>weight_x</th>\n",
       "      <th>weight_y</th>\n",
       "      <th>weight</th>\n",
       "    </tr>\n",
       "  </thead>\n",
       "  <tbody>\n",
       "    <tr>\n",
       "      <th>0</th>\n",
       "      <td>Addam-Marbrand</td>\n",
       "      <td>Jaime-Lannister</td>\n",
       "      <td>3.0</td>\n",
       "      <td>NaN</td>\n",
       "      <td>3.0</td>\n",
       "      <td>8.0</td>\n",
       "      <td>NaN</td>\n",
       "    </tr>\n",
       "    <tr>\n",
       "      <th>1</th>\n",
       "      <td>Addam-Marbrand</td>\n",
       "      <td>Tywin-Lannister</td>\n",
       "      <td>6.0</td>\n",
       "      <td>NaN</td>\n",
       "      <td>NaN</td>\n",
       "      <td>NaN</td>\n",
       "      <td>NaN</td>\n",
       "    </tr>\n",
       "    <tr>\n",
       "      <th>2</th>\n",
       "      <td>Aegon-I-Targaryen</td>\n",
       "      <td>Daenerys-Targaryen</td>\n",
       "      <td>5.0</td>\n",
       "      <td>NaN</td>\n",
       "      <td>4.0</td>\n",
       "      <td>NaN</td>\n",
       "      <td>4.0</td>\n",
       "    </tr>\n",
       "    <tr>\n",
       "      <th>3</th>\n",
       "      <td>Aegon-I-Targaryen</td>\n",
       "      <td>Eddard-Stark</td>\n",
       "      <td>4.0</td>\n",
       "      <td>NaN</td>\n",
       "      <td>NaN</td>\n",
       "      <td>NaN</td>\n",
       "      <td>NaN</td>\n",
       "    </tr>\n",
       "    <tr>\n",
       "      <th>4</th>\n",
       "      <td>Aemon-Targaryen-(Maester-Aemon)</td>\n",
       "      <td>Alliser-Thorne</td>\n",
       "      <td>4.0</td>\n",
       "      <td>NaN</td>\n",
       "      <td>3.0</td>\n",
       "      <td>NaN</td>\n",
       "      <td>NaN</td>\n",
       "    </tr>\n",
       "  </tbody>\n",
       "</table>\n",
       "</div>"
      ],
      "text/plain": [
       "                            Source              Target  weight_x  weight_y  \\\n",
       "0                   Addam-Marbrand     Jaime-Lannister       3.0       NaN   \n",
       "1                   Addam-Marbrand     Tywin-Lannister       6.0       NaN   \n",
       "2                Aegon-I-Targaryen  Daenerys-Targaryen       5.0       NaN   \n",
       "3                Aegon-I-Targaryen        Eddard-Stark       4.0       NaN   \n",
       "4  Aemon-Targaryen-(Maester-Aemon)      Alliser-Thorne       4.0       NaN   \n",
       "\n",
       "   weight_x  weight_y  weight  \n",
       "0       3.0       8.0     NaN  \n",
       "1       NaN       NaN     NaN  \n",
       "2       4.0       NaN     4.0  \n",
       "3       NaN       NaN     NaN  \n",
       "4       3.0       NaN     NaN  "
      ]
     },
     "execution_count": 22,
     "metadata": {},
     "output_type": "execute_result"
    }
   ],
   "source": [
    "b4b5 = b3b4.merge(book5[['Source', 'Target', 'weight']], how='outer', on=['Source','Target'])\n",
    "b4b5.head()"
   ]
  },
  {
   "cell_type": "code",
   "execution_count": 44,
   "metadata": {},
   "outputs": [
    {
     "data": {
      "text/html": [
       "<div>\n",
       "<style scoped>\n",
       "    .dataframe tbody tr th:only-of-type {\n",
       "        vertical-align: middle;\n",
       "    }\n",
       "\n",
       "    .dataframe tbody tr th {\n",
       "        vertical-align: top;\n",
       "    }\n",
       "\n",
       "    .dataframe thead th {\n",
       "        text-align: right;\n",
       "    }\n",
       "</style>\n",
       "<table border=\"1\" class=\"dataframe\">\n",
       "  <thead>\n",
       "    <tr style=\"text-align: right;\">\n",
       "      <th></th>\n",
       "      <th>Source</th>\n",
       "      <th>Target</th>\n",
       "      <th>weight_x</th>\n",
       "      <th>weight_y</th>\n",
       "      <th>weight_x</th>\n",
       "      <th>weight_y</th>\n",
       "      <th>weight</th>\n",
       "      <th>sum</th>\n",
       "      <th>sum_weight</th>\n",
       "    </tr>\n",
       "  </thead>\n",
       "  <tbody>\n",
       "    <tr>\n",
       "      <th>0</th>\n",
       "      <td>Addam-Marbrand</td>\n",
       "      <td>Jaime-Lannister</td>\n",
       "      <td>3.0</td>\n",
       "      <td>NaN</td>\n",
       "      <td>3.0</td>\n",
       "      <td>8.0</td>\n",
       "      <td>NaN</td>\n",
       "      <td>14.0</td>\n",
       "      <td>28.0</td>\n",
       "    </tr>\n",
       "    <tr>\n",
       "      <th>1</th>\n",
       "      <td>Addam-Marbrand</td>\n",
       "      <td>Tywin-Lannister</td>\n",
       "      <td>6.0</td>\n",
       "      <td>NaN</td>\n",
       "      <td>NaN</td>\n",
       "      <td>NaN</td>\n",
       "      <td>NaN</td>\n",
       "      <td>6.0</td>\n",
       "      <td>12.0</td>\n",
       "    </tr>\n",
       "    <tr>\n",
       "      <th>2</th>\n",
       "      <td>Aegon-I-Targaryen</td>\n",
       "      <td>Daenerys-Targaryen</td>\n",
       "      <td>5.0</td>\n",
       "      <td>NaN</td>\n",
       "      <td>4.0</td>\n",
       "      <td>NaN</td>\n",
       "      <td>4.0</td>\n",
       "      <td>13.0</td>\n",
       "      <td>26.0</td>\n",
       "    </tr>\n",
       "    <tr>\n",
       "      <th>3</th>\n",
       "      <td>Aegon-I-Targaryen</td>\n",
       "      <td>Eddard-Stark</td>\n",
       "      <td>4.0</td>\n",
       "      <td>NaN</td>\n",
       "      <td>NaN</td>\n",
       "      <td>NaN</td>\n",
       "      <td>NaN</td>\n",
       "      <td>4.0</td>\n",
       "      <td>8.0</td>\n",
       "    </tr>\n",
       "    <tr>\n",
       "      <th>4</th>\n",
       "      <td>Aemon-Targaryen-(Maester-Aemon)</td>\n",
       "      <td>Alliser-Thorne</td>\n",
       "      <td>4.0</td>\n",
       "      <td>NaN</td>\n",
       "      <td>3.0</td>\n",
       "      <td>NaN</td>\n",
       "      <td>NaN</td>\n",
       "      <td>7.0</td>\n",
       "      <td>14.0</td>\n",
       "    </tr>\n",
       "  </tbody>\n",
       "</table>\n",
       "</div>"
      ],
      "text/plain": [
       "                            Source              Target  weight_x  weight_y  \\\n",
       "0                   Addam-Marbrand     Jaime-Lannister       3.0       NaN   \n",
       "1                   Addam-Marbrand     Tywin-Lannister       6.0       NaN   \n",
       "2                Aegon-I-Targaryen  Daenerys-Targaryen       5.0       NaN   \n",
       "3                Aegon-I-Targaryen        Eddard-Stark       4.0       NaN   \n",
       "4  Aemon-Targaryen-(Maester-Aemon)      Alliser-Thorne       4.0       NaN   \n",
       "\n",
       "   weight_x  weight_y  weight   sum  sum_weight  \n",
       "0       3.0       8.0     NaN  14.0        28.0  \n",
       "1       NaN       NaN     NaN   6.0        12.0  \n",
       "2       4.0       NaN     4.0  13.0        26.0  \n",
       "3       NaN       NaN     NaN   4.0         8.0  \n",
       "4       3.0       NaN     NaN   7.0        14.0  "
      ]
     },
     "execution_count": 44,
     "metadata": {},
     "output_type": "execute_result"
    }
   ],
   "source": [
    "b4b5[\"sum_weight\"] = b4b5.drop(['Source', 'Target'], axis=1).sum(axis=1)\n",
    "b4b5.head()"
   ]
  },
  {
   "cell_type": "markdown",
   "metadata": {},
   "source": [
    "### Итоговая таблица для графа"
   ]
  },
  {
   "cell_type": "code",
   "execution_count": 45,
   "metadata": {},
   "outputs": [
    {
     "data": {
      "text/html": [
       "<div>\n",
       "<style scoped>\n",
       "    .dataframe tbody tr th:only-of-type {\n",
       "        vertical-align: middle;\n",
       "    }\n",
       "\n",
       "    .dataframe tbody tr th {\n",
       "        vertical-align: top;\n",
       "    }\n",
       "\n",
       "    .dataframe thead th {\n",
       "        text-align: right;\n",
       "    }\n",
       "</style>\n",
       "<table border=\"1\" class=\"dataframe\">\n",
       "  <thead>\n",
       "    <tr style=\"text-align: right;\">\n",
       "      <th></th>\n",
       "      <th>Source</th>\n",
       "      <th>Target</th>\n",
       "      <th>sum_weight</th>\n",
       "    </tr>\n",
       "  </thead>\n",
       "  <tbody>\n",
       "    <tr>\n",
       "      <th>0</th>\n",
       "      <td>Addam-Marbrand</td>\n",
       "      <td>Jaime-Lannister</td>\n",
       "      <td>28.0</td>\n",
       "    </tr>\n",
       "    <tr>\n",
       "      <th>1</th>\n",
       "      <td>Addam-Marbrand</td>\n",
       "      <td>Tywin-Lannister</td>\n",
       "      <td>12.0</td>\n",
       "    </tr>\n",
       "    <tr>\n",
       "      <th>2</th>\n",
       "      <td>Aegon-I-Targaryen</td>\n",
       "      <td>Daenerys-Targaryen</td>\n",
       "      <td>26.0</td>\n",
       "    </tr>\n",
       "    <tr>\n",
       "      <th>3</th>\n",
       "      <td>Aegon-I-Targaryen</td>\n",
       "      <td>Eddard-Stark</td>\n",
       "      <td>8.0</td>\n",
       "    </tr>\n",
       "    <tr>\n",
       "      <th>4</th>\n",
       "      <td>Aemon-Targaryen-(Maester-Aemon)</td>\n",
       "      <td>Alliser-Thorne</td>\n",
       "      <td>14.0</td>\n",
       "    </tr>\n",
       "  </tbody>\n",
       "</table>\n",
       "</div>"
      ],
      "text/plain": [
       "                            Source              Target  sum_weight\n",
       "0                   Addam-Marbrand     Jaime-Lannister        28.0\n",
       "1                   Addam-Marbrand     Tywin-Lannister        12.0\n",
       "2                Aegon-I-Targaryen  Daenerys-Targaryen        26.0\n",
       "3                Aegon-I-Targaryen        Eddard-Stark         8.0\n",
       "4  Aemon-Targaryen-(Maester-Aemon)      Alliser-Thorne        14.0"
      ]
     },
     "execution_count": 45,
     "metadata": {},
     "output_type": "execute_result"
    }
   ],
   "source": [
    "book_together = b4b5[['Source', 'Target', 'sum_weight']]\n",
    "book_together.head()"
   ]
  },
  {
   "cell_type": "code",
   "execution_count": 46,
   "metadata": {},
   "outputs": [],
   "source": [
    "G6=nx.from_pandas_edgelist(book_together,'Source', 'Target', edge_attr=True, create_using=nx.Graph())"
   ]
  },
  {
   "cell_type": "code",
   "execution_count": 48,
   "metadata": {},
   "outputs": [],
   "source": [
    "character=[\n",
    "    sorted_centrality(G6)[0][0],\n",
    "    sorted(dict(G6.degree(weight='weight')).items(), key=itemgetter(1), reverse=True)[0][0],\n",
    "    sorted(nx.eigenvector_centrality(G6).items(), key=itemgetter(1), reverse=True)[0][0],\n",
    "    sorted(nx.pagerank(G6, alpha=0.85).items(), key=itemgetter(1), reverse=True)[0][0],\n",
    "    sorted(nx.closeness_centrality(G6).items(), key=itemgetter(1), reverse=True)[0][0],\n",
    "    sorted(nx.betweenness_centrality(G6).items(), key=itemgetter(1), reverse=True)[0][0]  \n",
    "]"
   ]
  },
  {
   "cell_type": "code",
   "execution_count": 49,
   "metadata": {},
   "outputs": [],
   "source": [
    "metrics=['degree centrality','weighted degree','eigenvector centrality',\n",
    "         'PageRank','closeness centrality','betweenness centrality']\n",
    "\n",
    "df = pd.DataFrame(columns=['centrality metrics', 'character'], index=list(np.arange(1,len(metrics)+1)))\n",
    "df['centrality metrics']=metrics\n",
    "df['character']=character"
   ]
  },
  {
   "cell_type": "code",
   "execution_count": 50,
   "metadata": {},
   "outputs": [
    {
     "data": {
      "text/html": [
       "<div>\n",
       "<style scoped>\n",
       "    .dataframe tbody tr th:only-of-type {\n",
       "        vertical-align: middle;\n",
       "    }\n",
       "\n",
       "    .dataframe tbody tr th {\n",
       "        vertical-align: top;\n",
       "    }\n",
       "\n",
       "    .dataframe thead th {\n",
       "        text-align: right;\n",
       "    }\n",
       "</style>\n",
       "<table border=\"1\" class=\"dataframe\">\n",
       "  <thead>\n",
       "    <tr style=\"text-align: right;\">\n",
       "      <th></th>\n",
       "      <th>centrality metrics</th>\n",
       "      <th>character</th>\n",
       "    </tr>\n",
       "  </thead>\n",
       "  <tbody>\n",
       "    <tr>\n",
       "      <th>1</th>\n",
       "      <td>degree centrality</td>\n",
       "      <td>Tyrion-Lannister</td>\n",
       "    </tr>\n",
       "    <tr>\n",
       "      <th>2</th>\n",
       "      <td>weighted degree</td>\n",
       "      <td>Tyrion-Lannister</td>\n",
       "    </tr>\n",
       "    <tr>\n",
       "      <th>3</th>\n",
       "      <td>eigenvector centrality</td>\n",
       "      <td>Tyrion-Lannister</td>\n",
       "    </tr>\n",
       "    <tr>\n",
       "      <th>4</th>\n",
       "      <td>PageRank</td>\n",
       "      <td>Jon-Snow</td>\n",
       "    </tr>\n",
       "    <tr>\n",
       "      <th>5</th>\n",
       "      <td>closeness centrality</td>\n",
       "      <td>Tyrion-Lannister</td>\n",
       "    </tr>\n",
       "    <tr>\n",
       "      <th>6</th>\n",
       "      <td>betweenness centrality</td>\n",
       "      <td>Jon-Snow</td>\n",
       "    </tr>\n",
       "  </tbody>\n",
       "</table>\n",
       "</div>"
      ],
      "text/plain": [
       "       centrality metrics         character\n",
       "1       degree centrality  Tyrion-Lannister\n",
       "2         weighted degree  Tyrion-Lannister\n",
       "3  eigenvector centrality  Tyrion-Lannister\n",
       "4                PageRank          Jon-Snow\n",
       "5    closeness centrality  Tyrion-Lannister\n",
       "6  betweenness centrality          Jon-Snow"
      ]
     },
     "execution_count": 50,
     "metadata": {},
     "output_type": "execute_result"
    }
   ],
   "source": [
    "df"
   ]
  }
 ],
 "metadata": {
  "kernelspec": {
   "display_name": "Python 3",
   "language": "python",
   "name": "python3"
  },
  "language_info": {
   "codemirror_mode": {
    "name": "ipython",
    "version": 3
   },
   "file_extension": ".py",
   "mimetype": "text/x-python",
   "name": "python",
   "nbconvert_exporter": "python",
   "pygments_lexer": "ipython3",
   "version": "3.8.5"
  }
 },
 "nbformat": 4,
 "nbformat_minor": 2
}
